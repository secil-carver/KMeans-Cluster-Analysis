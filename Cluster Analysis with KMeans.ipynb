{
 "cells": [
  {
   "cell_type": "markdown",
   "id": "14120633",
   "metadata": {},
   "source": [
    "# KMEANS CLUSTERING TECHNIQUES"
   ]
  },
  {
   "cell_type": "markdown",
   "id": "18849138",
   "metadata": {},
   "source": [
    "## Data Preparation\n"
   ]
  },
  {
   "cell_type": "code",
   "execution_count": 55,
   "id": "52728f2b",
   "metadata": {},
   "outputs": [],
   "source": [
    "import pandas as pd\n",
    "import numpy as np\n",
    "\n",
    "import matplotlib.pyplot as plt\n",
    "import seaborn as sns\n",
    "\n",
    "from sklearn.cluster import KMeans\n",
    "from yellowbrick.cluster import KElbowVisualizer, SilhouetteVisualizer\n",
    "\n",
    "from sklearn import metrics\n",
    "from sklearn.metrics import silhouette_samples, silhouette_score\n",
    "\n",
    "from sklearn.preprocessing import StandardScaler\n",
    "from sklearn.pipeline import make_pipeline"
   ]
  },
  {
   "cell_type": "code",
   "execution_count": 56,
   "id": "a9f13d72",
   "metadata": {},
   "outputs": [],
   "source": [
    "# Resize all the figures\n",
    "plt.rcParams[\"figure.figsize\"] = [6, 4]"
   ]
  },
  {
   "cell_type": "code",
   "execution_count": 57,
   "id": "a383c1e1",
   "metadata": {},
   "outputs": [],
   "source": [
    "# Maximum visibility on all the columns\n",
    "pd.set_option('display.max_columns', None)"
   ]
  },
  {
   "cell_type": "code",
   "execution_count": 58,
   "id": "64adce1b",
   "metadata": {},
   "outputs": [],
   "source": [
    "# Load data\n",
    "df_original = pd.read_csv('../Churn/churn_clean.csv')"
   ]
  },
  {
   "cell_type": "code",
   "execution_count": 59,
   "id": "edb1f6c3",
   "metadata": {},
   "outputs": [
    {
     "data": {
      "text/plain": [
       "(10000, 50)"
      ]
     },
     "execution_count": 59,
     "metadata": {},
     "output_type": "execute_result"
    }
   ],
   "source": [
    "df_original.shape"
   ]
  },
  {
   "cell_type": "code",
   "execution_count": 1,
   "id": "0c48b784",
   "metadata": {},
   "outputs": [],
   "source": [
    "# df_original.info()"
   ]
  },
  {
   "cell_type": "code",
   "execution_count": 61,
   "id": "60d6a9f4",
   "metadata": {},
   "outputs": [
    {
     "data": {
      "text/plain": [
       "Index(['CaseOrder', 'Customer_id', 'Interaction', 'UID', 'City', 'State',\n",
       "       'County', 'Zip', 'Lat', 'Lng', 'Population', 'Area', 'TimeZone', 'Job',\n",
       "       'Children', 'Age', 'Income', 'Marital', 'Gender', 'Churn',\n",
       "       'Outage_sec_perweek', 'Email', 'Contacts', 'Yearly_equip_failure',\n",
       "       'Techie', 'Contract', 'Port_modem', 'Tablet', 'InternetService',\n",
       "       'Phone', 'Multiple', 'OnlineSecurity', 'OnlineBackup',\n",
       "       'DeviceProtection', 'TechSupport', 'StreamingTV', 'StreamingMovies',\n",
       "       'PaperlessBilling', 'PaymentMethod', 'Tenure', 'MonthlyCharge',\n",
       "       'Bandwidth_GB_Year', 'Item1', 'Item2', 'Item3', 'Item4', 'Item5',\n",
       "       'Item6', 'Item7', 'Item8'],\n",
       "      dtype='object')"
      ]
     },
     "execution_count": 61,
     "metadata": {},
     "output_type": "execute_result"
    }
   ],
   "source": [
    "df_original.columns"
   ]
  },
  {
   "cell_type": "code",
   "execution_count": 62,
   "id": "2333ceec",
   "metadata": {},
   "outputs": [
    {
     "data": {
      "text/html": [
       "<div>\n",
       "<style scoped>\n",
       "    .dataframe tbody tr th:only-of-type {\n",
       "        vertical-align: middle;\n",
       "    }\n",
       "\n",
       "    .dataframe tbody tr th {\n",
       "        vertical-align: top;\n",
       "    }\n",
       "\n",
       "    .dataframe thead th {\n",
       "        text-align: right;\n",
       "    }\n",
       "</style>\n",
       "<table border=\"1\" class=\"dataframe\">\n",
       "  <thead>\n",
       "    <tr style=\"text-align: right;\">\n",
       "      <th></th>\n",
       "      <th>Age</th>\n",
       "      <th>Income</th>\n",
       "      <th>Children</th>\n",
       "      <th>Bandwidth_GB_Year</th>\n",
       "    </tr>\n",
       "  </thead>\n",
       "  <tbody>\n",
       "    <tr>\n",
       "      <th>0</th>\n",
       "      <td>68</td>\n",
       "      <td>28561.99</td>\n",
       "      <td>0</td>\n",
       "      <td>904.536110</td>\n",
       "    </tr>\n",
       "    <tr>\n",
       "      <th>1</th>\n",
       "      <td>27</td>\n",
       "      <td>21704.77</td>\n",
       "      <td>1</td>\n",
       "      <td>800.982766</td>\n",
       "    </tr>\n",
       "    <tr>\n",
       "      <th>2</th>\n",
       "      <td>50</td>\n",
       "      <td>9609.57</td>\n",
       "      <td>4</td>\n",
       "      <td>2054.706961</td>\n",
       "    </tr>\n",
       "    <tr>\n",
       "      <th>3</th>\n",
       "      <td>48</td>\n",
       "      <td>18925.23</td>\n",
       "      <td>1</td>\n",
       "      <td>2164.579412</td>\n",
       "    </tr>\n",
       "    <tr>\n",
       "      <th>4</th>\n",
       "      <td>83</td>\n",
       "      <td>40074.19</td>\n",
       "      <td>0</td>\n",
       "      <td>271.493436</td>\n",
       "    </tr>\n",
       "  </tbody>\n",
       "</table>\n",
       "</div>"
      ],
      "text/plain": [
       "   Age    Income  Children  Bandwidth_GB_Year\n",
       "0   68  28561.99         0         904.536110\n",
       "1   27  21704.77         1         800.982766\n",
       "2   50   9609.57         4        2054.706961\n",
       "3   48  18925.23         1        2164.579412\n",
       "4   83  40074.19         0         271.493436"
      ]
     },
     "execution_count": 62,
     "metadata": {},
     "output_type": "execute_result"
    }
   ],
   "source": [
    "# Create a new data set with 4 variables to be used in the cluster analysis\n",
    "df = df_original[['Age','Income','Children','Bandwidth_GB_Year']]\n",
    "df.head()"
   ]
  },
  {
   "cell_type": "code",
   "execution_count": 63,
   "id": "3201155c",
   "metadata": {},
   "outputs": [],
   "source": [
    "#Make a copy of DF\n",
    "df_cls = df.copy()"
   ]
  },
  {
   "cell_type": "code",
   "execution_count": 64,
   "id": "096d5fc5",
   "metadata": {},
   "outputs": [
    {
     "data": {
      "image/png": "[encoded data removed]",
      "text/plain": [
       "<Figure size 600x400 with 4 Axes>"
      ]
     },
     "metadata": {},
     "output_type": "display_data"
    }
   ],
   "source": [
    "# Looking for outliers\n",
    "df_cls.hist();"
   ]
  },
  {
   "cell_type": "code",
   "execution_count": 65,
   "id": "eb0a8ef4",
   "metadata": {},
   "outputs": [
    {
     "data": {
      "image/png": "[encoded data removed]",
      "text/plain": [
       "<Figure size 600x400 with 1 Axes>"
      ]
     },
     "metadata": {},
     "output_type": "display_data"
    }
   ],
   "source": [
    "df_cls.boxplot('Income');"
   ]
  },
  {
   "cell_type": "code",
   "execution_count": 66,
   "id": "de953d19",
   "metadata": {},
   "outputs": [
    {
     "data": {
      "image/png": "[encoded data removed]",
      "text/plain": [
       "<Figure size 600x400 with 1 Axes>"
      ]
     },
     "metadata": {},
     "output_type": "display_data"
    }
   ],
   "source": [
    "df_cls.boxplot('Children');"
   ]
  },
  {
   "cell_type": "markdown",
   "id": "30390197",
   "metadata": {},
   "source": [
    "##### Outlier mitigation for children and income"
   ]
  },
  {
   "cell_type": "code",
   "execution_count": 67,
   "id": "cd9194ac",
   "metadata": {},
   "outputs": [
    {
     "data": {
      "text/plain": [
       "2.0877"
      ]
     },
     "execution_count": 67,
     "metadata": {},
     "output_type": "execute_result"
    }
   ],
   "source": [
    "# Check the mean of children\n",
    "df_cls['Children'].mean()"
   ]
  },
  {
   "cell_type": "code",
   "execution_count": 68,
   "id": "e552c5e8",
   "metadata": {},
   "outputs": [],
   "source": [
    "# Replace the outliers of children with the mean\n",
    "df_cls['Children'].replace([7,8,9,10],2,inplace=True)"
   ]
  },
  {
   "cell_type": "code",
   "execution_count": 69,
   "id": "932a42ef",
   "metadata": {},
   "outputs": [
    {
     "data": {
      "text/plain": [
       "0"
      ]
     },
     "execution_count": 69,
     "metadata": {},
     "output_type": "execute_result"
    }
   ],
   "source": [
    "# Check if outliers are replaced\n",
    "sum(df_cls['Children']>7)"
   ]
  },
  {
   "cell_type": "code",
   "execution_count": 70,
   "id": "06645161",
   "metadata": {},
   "outputs": [
    {
     "data": {
      "text/plain": [
       "395"
      ]
     },
     "execution_count": 70,
     "metadata": {},
     "output_type": "execute_result"
    }
   ],
   "source": [
    "df_cls.query('Income > 100000').count()[1]"
   ]
  },
  {
   "cell_type": "code",
   "execution_count": 71,
   "id": "601d5d4d",
   "metadata": {},
   "outputs": [
    {
     "data": {
      "text/plain": [
       "39806.9267710001"
      ]
     },
     "execution_count": 71,
     "metadata": {},
     "output_type": "execute_result"
    }
   ],
   "source": [
    "df_cls['Income'].mean()"
   ]
  },
  {
   "cell_type": "code",
   "execution_count": 72,
   "id": "d04ce955",
   "metadata": {},
   "outputs": [],
   "source": [
    "# Replace outliers of income with the mean\n",
    "df_cls.loc[df_cls['Income']>100000,'Income'] = df_cls['Income'].mean()"
   ]
  },
  {
   "cell_type": "code",
   "execution_count": 73,
   "id": "2b477893",
   "metadata": {},
   "outputs": [
    {
     "data": {
      "text/plain": [
       "0"
      ]
     },
     "execution_count": 73,
     "metadata": {},
     "output_type": "execute_result"
    }
   ],
   "source": [
    "sum(df_cls['Income']>100000)"
   ]
  },
  {
   "cell_type": "code",
   "execution_count": 74,
   "id": "85b2cebe",
   "metadata": {},
   "outputs": [
    {
     "data": {
      "text/plain": [
       "Age                  0\n",
       "Income               0\n",
       "Children             0\n",
       "Bandwidth_GB_Year    0\n",
       "dtype: int64"
      ]
     },
     "execution_count": 74,
     "metadata": {},
     "output_type": "execute_result"
    }
   ],
   "source": [
    "# Checking null values\n",
    "df_cls.isnull().sum()"
   ]
  },
  {
   "cell_type": "code",
   "execution_count": 75,
   "id": "c43e2105",
   "metadata": {},
   "outputs": [
    {
     "data": {
      "text/plain": [
       "0"
      ]
     },
     "execution_count": 75,
     "metadata": {},
     "output_type": "execute_result"
    }
   ],
   "source": [
    "# Checking duplicates\n",
    "df_cls.duplicated().sum()"
   ]
  },
  {
   "cell_type": "code",
   "execution_count": 76,
   "id": "9ce049a3",
   "metadata": {},
   "outputs": [
    {
     "data": {
      "text/plain": [
       "array([[ 0.72092524, -0.36059058, -1.1530925 , -1.13848703],\n",
       "       [-1.25995716, -0.67314566, -0.48486551, -1.18587584],\n",
       "       [-0.14873045, -1.22445016,  1.51981548, -0.61213775],\n",
       "       ...,\n",
       "       [-0.24535886,  0.43348626, -0.48486551,  0.35098358],\n",
       "       [-0.6801867 , -0.90274298, -0.48486551,  1.40771348],\n",
       "       [-1.21164295, -1.25128108, -0.48486551,  1.12816258]])"
      ]
     },
     "execution_count": 76,
     "metadata": {},
     "output_type": "execute_result"
    }
   ],
   "source": [
    "scaler = StandardScaler()\n",
    "scaler.fit(df_cls)\n",
    "scaled_df = scaler.transform(df_cls)\n",
    "scaled_df"
   ]
  },
  {
   "cell_type": "code",
   "execution_count": 77,
   "id": "3577f0bd",
   "metadata": {},
   "outputs": [],
   "source": [
    "# Save preprocessed data\n",
    "df_cleaned = pd.DataFrame(scaled_df)\n",
    "df_cleaned.to_csv('cleaned_data.csv')"
   ]
  },
  {
   "cell_type": "markdown",
   "id": "3db907d1",
   "metadata": {},
   "source": [
    "## Cluster Analysis\n",
    "\n"
   ]
  },
  {
   "cell_type": "code",
   "execution_count": 78,
   "id": "c0820715",
   "metadata": {},
   "outputs": [
    {
     "data": {
      "image/png": "[encoded data removed]",
      "text/plain": [
       "<Figure size 600x400 with 1 Axes>"
      ]
     },
     "metadata": {},
     "output_type": "display_data"
    },
    {
     "data": {
      "text/plain": [
       "<AxesSubplot:title={'center':'Distortion Score Elbow for KMeans Clustering'}, xlabel='k', ylabel='distortion score'>"
      ]
     },
     "execution_count": 78,
     "metadata": {},
     "output_type": "execute_result"
    }
   ],
   "source": [
    "# Instantiate the clustering model and visualizer\n",
    "model = KMeans()\n",
    "visualizer = KElbowVisualizer(model, k=(2,10), random_state=42, timings=False)\n",
    "\n",
    "visualizer.fit(scaled_df)        # Fit the data to the visualizer\n",
    "visualizer.show()        # Finalize and render the figure\n"
   ]
  },
  {
   "cell_type": "markdown",
   "id": "a196c8ac",
   "metadata": {},
   "source": [
    "** Below third party code was taken from scikit. [Source Code](https://www.scikit-yb.org/en/latest/api/cluster/silhouette.html)"
   ]
  },
  {
   "cell_type": "code",
   "execution_count": 79,
   "id": "83f39247",
   "metadata": {},
   "outputs": [
    {
     "data": {
      "image/png": "[encoded data removed]",
      "text/plain": [
       "<Figure size 600x400 with 1 Axes>"
      ]
     },
     "metadata": {},
     "output_type": "display_data"
    },
    {
     "data": {
      "text/plain": [
       "<AxesSubplot:title={'center':'Silhouette Plot of KMeans Clustering for 10000 Samples in 5 Centers'}, xlabel='silhouette coefficient values', ylabel='cluster label'>"
      ]
     },
     "execution_count": 79,
     "metadata": {},
     "output_type": "execute_result"
    }
   ],
   "source": [
    "# Silhouette Visualizer\n",
    "\n",
    "model = SilhouetteVisualizer(KMeans(5))\n",
    "model.fit(scaled_df)\n",
    "model.show()"
   ]
  },
  {
   "cell_type": "code",
   "execution_count": 137,
   "id": "ac701f51",
   "metadata": {},
   "outputs": [
    {
     "data": {
      "text/plain": [
       "array([0, 0, 2, ..., 1, 1, 1], dtype=int32)"
      ]
     },
     "execution_count": 137,
     "metadata": {},
     "output_type": "execute_result"
    }
   ],
   "source": [
    "# Cluster the data using 5 clusters\n",
    "model = KMeans(n_clusters=5, random_state=0).fit(scaled_df)\n",
    "labels = model.labels_\n",
    "labels"
   ]
  },
  {
   "cell_type": "code",
   "execution_count": 138,
   "id": "1487c0c3",
   "metadata": {},
   "outputs": [
    {
     "data": {
      "text/plain": [
       "array([[-0.01035884, -0.40872128, -0.55541918, -0.97782097],\n",
       "       [-0.88539932, -0.31576684, -0.22341491,  0.9839649 ],\n",
       "       [ 0.00402456, -0.2136351 ,  1.49768876, -0.38224095],\n",
       "       [-0.01938213,  1.71033006, -0.1680412 , -0.16929745],\n",
       "       [ 0.95429827, -0.26258888, -0.2460099 ,  0.93082093]])"
      ]
     },
     "execution_count": 138,
     "metadata": {},
     "output_type": "execute_result"
    }
   ],
   "source": [
    "# Centroids \n",
    "centroids = model.cluster_centers_\n",
    "centroids"
   ]
  },
  {
   "cell_type": "code",
   "execution_count": 139,
   "id": "ba4b64f8",
   "metadata": {},
   "outputs": [
    {
     "name": "stdout",
     "output_type": "stream",
     "text": [
      "Silhouette score is: 0.23191625784563838\n"
     ]
    }
   ],
   "source": [
    "silhouette = silhouette_score(scaled_df,labels)\n",
    "print('Silhouette score is:',silhouette)"
   ]
  },
  {
   "cell_type": "code",
   "execution_count": 140,
   "id": "3949a674",
   "metadata": {},
   "outputs": [
    {
     "data": {
      "image/png": "[encoded data removed]",
      "text/plain": [
       "<Figure size 600x400 with 1 Axes>"
      ]
     },
     "metadata": {},
     "output_type": "display_data"
    }
   ],
   "source": [
    "# plotting clusters\n",
    "plt.scatter(scaled_df[labels==0,0], scaled_df[labels==0,1],\n",
    "           s=50, c='cyan', label='Cluster0')\n",
    "\n",
    "plt.scatter(scaled_df[labels==1,0], scaled_df[labels==1,1],\n",
    "           s=56, c='blue', label='Cluster1')\n",
    "\n",
    "plt.scatter(scaled_df[labels==2,0], scaled_df[labels==2,1],\n",
    "           s=50, c='green', label='Cluster2')\n",
    "\n",
    "plt.scatter(scaled_df[labels==3,0], scaled_df[labels==3,1],\n",
    "           s=50, c='pink', label='Cluster3')\n",
    "\n",
    "plt.scatter(scaled_df[labels==4,0], scaled_df[labels==4,1],\n",
    "           s=50, c='magenta', label='Cluster4')\n",
    "# plotting centroids\n",
    "plt.scatter(centroids[:,0], centroids[:,1],\n",
    "           s=75, c='red', label='centroids')\n",
    "\n",
    "plt.legend(loc=1, bbox_to_anchor=(1.4,1));"
   ]
  },
  {
   "cell_type": "code",
   "execution_count": 141,
   "id": "7ee8b15a",
   "metadata": {},
   "outputs": [
    {
     "data": {
      "text/html": [
       "<div>\n",
       "<style scoped>\n",
       "    .dataframe tbody tr th:only-of-type {\n",
       "        vertical-align: middle;\n",
       "    }\n",
       "\n",
       "    .dataframe tbody tr th {\n",
       "        vertical-align: top;\n",
       "    }\n",
       "\n",
       "    .dataframe thead th {\n",
       "        text-align: right;\n",
       "    }\n",
       "</style>\n",
       "<table border=\"1\" class=\"dataframe\">\n",
       "  <thead>\n",
       "    <tr style=\"text-align: right;\">\n",
       "      <th></th>\n",
       "      <th>CaseOrder</th>\n",
       "      <th>Customer_id</th>\n",
       "      <th>Interaction</th>\n",
       "      <th>UID</th>\n",
       "      <th>City</th>\n",
       "      <th>State</th>\n",
       "      <th>County</th>\n",
       "      <th>Zip</th>\n",
       "      <th>Lat</th>\n",
       "      <th>Lng</th>\n",
       "      <th>Population</th>\n",
       "      <th>Area</th>\n",
       "      <th>TimeZone</th>\n",
       "      <th>Job</th>\n",
       "      <th>Children</th>\n",
       "      <th>Age</th>\n",
       "      <th>Income</th>\n",
       "      <th>Marital</th>\n",
       "      <th>Gender</th>\n",
       "      <th>Churn</th>\n",
       "      <th>Outage_sec_perweek</th>\n",
       "      <th>Email</th>\n",
       "      <th>Contacts</th>\n",
       "      <th>Yearly_equip_failure</th>\n",
       "      <th>Techie</th>\n",
       "      <th>Contract</th>\n",
       "      <th>Port_modem</th>\n",
       "      <th>Tablet</th>\n",
       "      <th>InternetService</th>\n",
       "      <th>Phone</th>\n",
       "      <th>Multiple</th>\n",
       "      <th>OnlineSecurity</th>\n",
       "      <th>OnlineBackup</th>\n",
       "      <th>DeviceProtection</th>\n",
       "      <th>TechSupport</th>\n",
       "      <th>StreamingTV</th>\n",
       "      <th>StreamingMovies</th>\n",
       "      <th>PaperlessBilling</th>\n",
       "      <th>PaymentMethod</th>\n",
       "      <th>Tenure</th>\n",
       "      <th>MonthlyCharge</th>\n",
       "      <th>Bandwidth_GB_Year</th>\n",
       "      <th>Item1</th>\n",
       "      <th>Item2</th>\n",
       "      <th>Item3</th>\n",
       "      <th>Item4</th>\n",
       "      <th>Item5</th>\n",
       "      <th>Item6</th>\n",
       "      <th>Item7</th>\n",
       "      <th>Item8</th>\n",
       "      <th>Clusters</th>\n",
       "    </tr>\n",
       "  </thead>\n",
       "  <tbody>\n",
       "    <tr>\n",
       "      <th>2524</th>\n",
       "      <td>2525</td>\n",
       "      <td>Z11338</td>\n",
       "      <td>e3149c44-e005-4ffe-b89a-55fac8d6d43a</td>\n",
       "      <td>8555f2e04e82aa3f464c0de8d725b48b</td>\n",
       "      <td>Wausau</td>\n",
       "      <td>WI</td>\n",
       "      <td>Marathon</td>\n",
       "      <td>54403</td>\n",
       "      <td>45.03138</td>\n",
       "      <td>-89.51375</td>\n",
       "      <td>24447</td>\n",
       "      <td>Urban</td>\n",
       "      <td>America/Chicago</td>\n",
       "      <td>Insurance risk surveyor</td>\n",
       "      <td>0</td>\n",
       "      <td>47</td>\n",
       "      <td>21028.18</td>\n",
       "      <td>Divorced</td>\n",
       "      <td>Female</td>\n",
       "      <td>Yes</td>\n",
       "      <td>14.10578</td>\n",
       "      <td>10</td>\n",
       "      <td>0</td>\n",
       "      <td>1</td>\n",
       "      <td>Yes</td>\n",
       "      <td>Month-to-month</td>\n",
       "      <td>No</td>\n",
       "      <td>Yes</td>\n",
       "      <td>Fiber Optic</td>\n",
       "      <td>Yes</td>\n",
       "      <td>Yes</td>\n",
       "      <td>Yes</td>\n",
       "      <td>No</td>\n",
       "      <td>Yes</td>\n",
       "      <td>No</td>\n",
       "      <td>Yes</td>\n",
       "      <td>Yes</td>\n",
       "      <td>Yes</td>\n",
       "      <td>Electronic Check</td>\n",
       "      <td>2.067128</td>\n",
       "      <td>255.1555</td>\n",
       "      <td>864.371328</td>\n",
       "      <td>4</td>\n",
       "      <td>4</td>\n",
       "      <td>4</td>\n",
       "      <td>3</td>\n",
       "      <td>3</td>\n",
       "      <td>4</td>\n",
       "      <td>3</td>\n",
       "      <td>3</td>\n",
       "      <td>0</td>\n",
       "    </tr>\n",
       "  </tbody>\n",
       "</table>\n",
       "</div>"
      ],
      "text/plain": [
       "      CaseOrder Customer_id                           Interaction  \\\n",
       "2524       2525      Z11338  e3149c44-e005-4ffe-b89a-55fac8d6d43a   \n",
       "\n",
       "                                   UID    City State    County    Zip  \\\n",
       "2524  8555f2e04e82aa3f464c0de8d725b48b  Wausau    WI  Marathon  54403   \n",
       "\n",
       "           Lat       Lng  Population   Area         TimeZone  \\\n",
       "2524  45.03138 -89.51375       24447  Urban  America/Chicago   \n",
       "\n",
       "                          Job  Children  Age    Income   Marital  Gender  \\\n",
       "2524  Insurance risk surveyor         0   47  21028.18  Divorced  Female   \n",
       "\n",
       "     Churn  Outage_sec_perweek  Email  Contacts  Yearly_equip_failure Techie  \\\n",
       "2524   Yes            14.10578     10         0                     1    Yes   \n",
       "\n",
       "            Contract Port_modem Tablet InternetService Phone Multiple  \\\n",
       "2524  Month-to-month         No    Yes     Fiber Optic   Yes      Yes   \n",
       "\n",
       "     OnlineSecurity OnlineBackup DeviceProtection TechSupport StreamingTV  \\\n",
       "2524            Yes           No              Yes          No         Yes   \n",
       "\n",
       "     StreamingMovies PaperlessBilling     PaymentMethod    Tenure  \\\n",
       "2524             Yes              Yes  Electronic Check  2.067128   \n",
       "\n",
       "      MonthlyCharge  Bandwidth_GB_Year  Item1  Item2  Item3  Item4  Item5  \\\n",
       "2524       255.1555         864.371328      4      4      4      3      3   \n",
       "\n",
       "      Item6  Item7  Item8  Clusters  \n",
       "2524      4      3      3         0  "
      ]
     },
     "execution_count": 141,
     "metadata": {},
     "output_type": "execute_result"
    }
   ],
   "source": [
    "# Glue clusters back to original data\n",
    "df_original['Clusters'] = labels\n",
    "df_original.sample(1)"
   ]
  },
  {
   "cell_type": "code",
   "execution_count": 142,
   "id": "f862bdbd",
   "metadata": {},
   "outputs": [
    {
     "name": "stdout",
     "output_type": "stream",
     "text": [
      "Cluster 0 count is: 2793\n",
      "Cluster 1 count is: 1973\n",
      "Cluster 2 count is: 1808\n",
      "Cluster 3 count is: 1546\n",
      "Cluster 4 count is: 1880\n"
     ]
    }
   ],
   "source": [
    "# Check if Clusters are uniformly distributed\n",
    "print('Cluster 0 count is:',df_original.query('Clusters == 0').count()[0])\n",
    "print('Cluster 1 count is:',df_original.query('Clusters == 1').count()[0])\n",
    "print('Cluster 2 count is:',df_original.query('Clusters == 2').count()[0])\n",
    "print('Cluster 3 count is:',df_original.query('Clusters == 3').count()[0])\n",
    "print('Cluster 4 count is:',df_original.query('Clusters == 4').count()[0])"
   ]
  },
  {
   "cell_type": "code",
   "execution_count": 143,
   "id": "ec911894",
   "metadata": {},
   "outputs": [
    {
     "data": {
      "image/png": "[encoded data removed]",
      "text/plain": [
       "<Figure size 600x400 with 1 Axes>"
      ]
     },
     "metadata": {},
     "output_type": "display_data"
    }
   ],
   "source": [
    "# Churn and Clusters\n",
    "sns.countplot(x=df_original['Churn'],  hue=df_original['Clusters']);"
   ]
  },
  {
   "cell_type": "code",
   "execution_count": 144,
   "id": "5e956507",
   "metadata": {},
   "outputs": [
    {
     "data": {
      "text/html": [
       "<div>\n",
       "<style scoped>\n",
       "    .dataframe tbody tr th:only-of-type {\n",
       "        vertical-align: middle;\n",
       "    }\n",
       "\n",
       "    .dataframe tbody tr th {\n",
       "        vertical-align: top;\n",
       "    }\n",
       "\n",
       "    .dataframe thead th {\n",
       "        text-align: right;\n",
       "    }\n",
       "</style>\n",
       "<table border=\"1\" class=\"dataframe\">\n",
       "  <thead>\n",
       "    <tr style=\"text-align: right;\">\n",
       "      <th>Churn</th>\n",
       "      <th>No</th>\n",
       "      <th>Yes</th>\n",
       "    </tr>\n",
       "    <tr>\n",
       "      <th>Clusters</th>\n",
       "      <th></th>\n",
       "      <th></th>\n",
       "    </tr>\n",
       "  </thead>\n",
       "  <tbody>\n",
       "    <tr>\n",
       "      <th>0</th>\n",
       "      <td>1495</td>\n",
       "      <td>1298</td>\n",
       "    </tr>\n",
       "    <tr>\n",
       "      <th>1</th>\n",
       "      <td>1856</td>\n",
       "      <td>117</td>\n",
       "    </tr>\n",
       "    <tr>\n",
       "      <th>2</th>\n",
       "      <td>1179</td>\n",
       "      <td>629</td>\n",
       "    </tr>\n",
       "    <tr>\n",
       "      <th>3</th>\n",
       "      <td>1066</td>\n",
       "      <td>480</td>\n",
       "    </tr>\n",
       "    <tr>\n",
       "      <th>4</th>\n",
       "      <td>1754</td>\n",
       "      <td>126</td>\n",
       "    </tr>\n",
       "  </tbody>\n",
       "</table>\n",
       "</div>"
      ],
      "text/plain": [
       "Churn       No   Yes\n",
       "Clusters            \n",
       "0         1495  1298\n",
       "1         1856   117\n",
       "2         1179   629\n",
       "3         1066   480\n",
       "4         1754   126"
      ]
     },
     "execution_count": 144,
     "metadata": {},
     "output_type": "execute_result"
    }
   ],
   "source": [
    "# Churn count per Cluster\n",
    "pd.crosstab(df_original['Clusters'],df_original['Churn'])"
   ]
  },
  {
   "cell_type": "code",
   "execution_count": 145,
   "id": "428084ec",
   "metadata": {},
   "outputs": [
    {
     "data": {
      "text/html": [
       "<div>\n",
       "<style scoped>\n",
       "    .dataframe tbody tr th:only-of-type {\n",
       "        vertical-align: middle;\n",
       "    }\n",
       "\n",
       "    .dataframe tbody tr th {\n",
       "        vertical-align: top;\n",
       "    }\n",
       "\n",
       "    .dataframe thead th {\n",
       "        text-align: right;\n",
       "    }\n",
       "</style>\n",
       "<table border=\"1\" class=\"dataframe\">\n",
       "  <thead>\n",
       "    <tr style=\"text-align: right;\">\n",
       "      <th>Churn</th>\n",
       "      <th>No</th>\n",
       "      <th>Yes</th>\n",
       "    </tr>\n",
       "    <tr>\n",
       "      <th>Clusters</th>\n",
       "      <th></th>\n",
       "      <th></th>\n",
       "    </tr>\n",
       "  </thead>\n",
       "  <tbody>\n",
       "    <tr>\n",
       "      <th>0</th>\n",
       "      <td>0.535267</td>\n",
       "      <td>0.464733</td>\n",
       "    </tr>\n",
       "    <tr>\n",
       "      <th>1</th>\n",
       "      <td>0.940699</td>\n",
       "      <td>0.059301</td>\n",
       "    </tr>\n",
       "    <tr>\n",
       "      <th>2</th>\n",
       "      <td>0.652102</td>\n",
       "      <td>0.347898</td>\n",
       "    </tr>\n",
       "    <tr>\n",
       "      <th>3</th>\n",
       "      <td>0.689521</td>\n",
       "      <td>0.310479</td>\n",
       "    </tr>\n",
       "    <tr>\n",
       "      <th>4</th>\n",
       "      <td>0.932979</td>\n",
       "      <td>0.067021</td>\n",
       "    </tr>\n",
       "  </tbody>\n",
       "</table>\n",
       "</div>"
      ],
      "text/plain": [
       "Churn           No       Yes\n",
       "Clusters                    \n",
       "0         0.535267  0.464733\n",
       "1         0.940699  0.059301\n",
       "2         0.652102  0.347898\n",
       "3         0.689521  0.310479\n",
       "4         0.932979  0.067021"
      ]
     },
     "execution_count": 145,
     "metadata": {},
     "output_type": "execute_result"
    }
   ],
   "source": [
    "# Percentage of Churn per Cluster\n",
    "pd.crosstab(df_original['Clusters'],df_original['Churn'],normalize='index')"
   ]
  },
  {
   "cell_type": "code",
   "execution_count": 146,
   "id": "57205653",
   "metadata": {},
   "outputs": [
    {
     "data": {
      "text/html": [
       "<div>\n",
       "<style scoped>\n",
       "    .dataframe tbody tr th:only-of-type {\n",
       "        vertical-align: middle;\n",
       "    }\n",
       "\n",
       "    .dataframe tbody tr th {\n",
       "        vertical-align: top;\n",
       "    }\n",
       "\n",
       "    .dataframe thead th {\n",
       "        text-align: right;\n",
       "    }\n",
       "</style>\n",
       "<table border=\"1\" class=\"dataframe\">\n",
       "  <thead>\n",
       "    <tr style=\"text-align: right;\">\n",
       "      <th>StreamingMovies</th>\n",
       "      <th>No</th>\n",
       "      <th>Yes</th>\n",
       "    </tr>\n",
       "    <tr>\n",
       "      <th>Clusters</th>\n",
       "      <th></th>\n",
       "      <th></th>\n",
       "    </tr>\n",
       "  </thead>\n",
       "  <tbody>\n",
       "    <tr>\n",
       "      <th>0</th>\n",
       "      <td>0.512710</td>\n",
       "      <td>0.487290</td>\n",
       "    </tr>\n",
       "    <tr>\n",
       "      <th>1</th>\n",
       "      <td>0.510390</td>\n",
       "      <td>0.489610</td>\n",
       "    </tr>\n",
       "    <tr>\n",
       "      <th>2</th>\n",
       "      <td>0.518805</td>\n",
       "      <td>0.481195</td>\n",
       "    </tr>\n",
       "    <tr>\n",
       "      <th>3</th>\n",
       "      <td>0.518758</td>\n",
       "      <td>0.481242</td>\n",
       "    </tr>\n",
       "    <tr>\n",
       "      <th>4</th>\n",
       "      <td>0.495213</td>\n",
       "      <td>0.504787</td>\n",
       "    </tr>\n",
       "  </tbody>\n",
       "</table>\n",
       "</div>"
      ],
      "text/plain": [
       "StreamingMovies        No       Yes\n",
       "Clusters                           \n",
       "0                0.512710  0.487290\n",
       "1                0.510390  0.489610\n",
       "2                0.518805  0.481195\n",
       "3                0.518758  0.481242\n",
       "4                0.495213  0.504787"
      ]
     },
     "execution_count": 146,
     "metadata": {},
     "output_type": "execute_result"
    }
   ],
   "source": [
    "# Streaming Movies count per Clusters\n",
    "pd.crosstab(df_original['Clusters'],df_original['StreamingMovies'], normalize='index')"
   ]
  },
  {
   "cell_type": "code",
   "execution_count": 147,
   "id": "88cd183f",
   "metadata": {},
   "outputs": [
    {
     "data": {
      "text/html": [
       "<div>\n",
       "<style scoped>\n",
       "    .dataframe tbody tr th:only-of-type {\n",
       "        vertical-align: middle;\n",
       "    }\n",
       "\n",
       "    .dataframe tbody tr th {\n",
       "        vertical-align: top;\n",
       "    }\n",
       "\n",
       "    .dataframe thead th {\n",
       "        text-align: right;\n",
       "    }\n",
       "</style>\n",
       "<table border=\"1\" class=\"dataframe\">\n",
       "  <thead>\n",
       "    <tr style=\"text-align: right;\">\n",
       "      <th>Phone</th>\n",
       "      <th>No</th>\n",
       "      <th>Yes</th>\n",
       "    </tr>\n",
       "    <tr>\n",
       "      <th>Clusters</th>\n",
       "      <th></th>\n",
       "      <th></th>\n",
       "    </tr>\n",
       "  </thead>\n",
       "  <tbody>\n",
       "    <tr>\n",
       "      <th>0</th>\n",
       "      <td>0.091658</td>\n",
       "      <td>0.908342</td>\n",
       "    </tr>\n",
       "    <tr>\n",
       "      <th>1</th>\n",
       "      <td>0.098327</td>\n",
       "      <td>0.901673</td>\n",
       "    </tr>\n",
       "    <tr>\n",
       "      <th>2</th>\n",
       "      <td>0.090155</td>\n",
       "      <td>0.909845</td>\n",
       "    </tr>\n",
       "    <tr>\n",
       "      <th>3</th>\n",
       "      <td>0.100906</td>\n",
       "      <td>0.899094</td>\n",
       "    </tr>\n",
       "    <tr>\n",
       "      <th>4</th>\n",
       "      <td>0.087234</td>\n",
       "      <td>0.912766</td>\n",
       "    </tr>\n",
       "  </tbody>\n",
       "</table>\n",
       "</div>"
      ],
      "text/plain": [
       "Phone           No       Yes\n",
       "Clusters                    \n",
       "0         0.091658  0.908342\n",
       "1         0.098327  0.901673\n",
       "2         0.090155  0.909845\n",
       "3         0.100906  0.899094\n",
       "4         0.087234  0.912766"
      ]
     },
     "execution_count": 147,
     "metadata": {},
     "output_type": "execute_result"
    }
   ],
   "source": [
    "# Streaming Movies percentage per Clusters\n",
    "pd.crosstab(df_original['Clusters'],df_original['Phone'],normalize='index')\n"
   ]
  },
  {
   "cell_type": "code",
   "execution_count": 148,
   "id": "67ab1e4c",
   "metadata": {},
   "outputs": [
    {
     "data": {
      "text/html": [
       "<div>\n",
       "<style scoped>\n",
       "    .dataframe tbody tr th:only-of-type {\n",
       "        vertical-align: middle;\n",
       "    }\n",
       "\n",
       "    .dataframe tbody tr th {\n",
       "        vertical-align: top;\n",
       "    }\n",
       "\n",
       "    .dataframe thead th {\n",
       "        text-align: right;\n",
       "    }\n",
       "</style>\n",
       "<table border=\"1\" class=\"dataframe\">\n",
       "  <thead>\n",
       "    <tr style=\"text-align: right;\">\n",
       "      <th>OnlineBackup</th>\n",
       "      <th>No</th>\n",
       "      <th>Yes</th>\n",
       "    </tr>\n",
       "    <tr>\n",
       "      <th>Clusters</th>\n",
       "      <th></th>\n",
       "      <th></th>\n",
       "    </tr>\n",
       "  </thead>\n",
       "  <tbody>\n",
       "    <tr>\n",
       "      <th>0</th>\n",
       "      <td>0.568564</td>\n",
       "      <td>0.431436</td>\n",
       "    </tr>\n",
       "    <tr>\n",
       "      <th>1</th>\n",
       "      <td>0.540801</td>\n",
       "      <td>0.459199</td>\n",
       "    </tr>\n",
       "    <tr>\n",
       "      <th>2</th>\n",
       "      <td>0.554204</td>\n",
       "      <td>0.445796</td>\n",
       "    </tr>\n",
       "    <tr>\n",
       "      <th>3</th>\n",
       "      <td>0.553040</td>\n",
       "      <td>0.446960</td>\n",
       "    </tr>\n",
       "    <tr>\n",
       "      <th>4</th>\n",
       "      <td>0.522340</td>\n",
       "      <td>0.477660</td>\n",
       "    </tr>\n",
       "  </tbody>\n",
       "</table>\n",
       "</div>"
      ],
      "text/plain": [
       "OnlineBackup        No       Yes\n",
       "Clusters                        \n",
       "0             0.568564  0.431436\n",
       "1             0.540801  0.459199\n",
       "2             0.554204  0.445796\n",
       "3             0.553040  0.446960\n",
       "4             0.522340  0.477660"
      ]
     },
     "execution_count": 148,
     "metadata": {},
     "output_type": "execute_result"
    }
   ],
   "source": [
    "# Online Backup percentage and Clusters\n",
    "pd.crosstab(df_original['Clusters'],df_original['OnlineBackup'],normalize='index')"
   ]
  },
  {
   "cell_type": "code",
   "execution_count": 149,
   "id": "0065a55d",
   "metadata": {},
   "outputs": [
    {
     "data": {
      "text/html": [
       "<div>\n",
       "<style scoped>\n",
       "    .dataframe tbody tr th:only-of-type {\n",
       "        vertical-align: middle;\n",
       "    }\n",
       "\n",
       "    .dataframe tbody tr th {\n",
       "        vertical-align: top;\n",
       "    }\n",
       "\n",
       "    .dataframe thead th {\n",
       "        text-align: right;\n",
       "    }\n",
       "</style>\n",
       "<table border=\"1\" class=\"dataframe\">\n",
       "  <thead>\n",
       "    <tr style=\"text-align: right;\">\n",
       "      <th>InternetService</th>\n",
       "      <th>DSL</th>\n",
       "      <th>Fiber Optic</th>\n",
       "      <th>None</th>\n",
       "    </tr>\n",
       "    <tr>\n",
       "      <th>Clusters</th>\n",
       "      <th></th>\n",
       "      <th></th>\n",
       "      <th></th>\n",
       "    </tr>\n",
       "  </thead>\n",
       "  <tbody>\n",
       "    <tr>\n",
       "      <th>0</th>\n",
       "      <td>0.332259</td>\n",
       "      <td>0.460795</td>\n",
       "      <td>0.206946</td>\n",
       "    </tr>\n",
       "    <tr>\n",
       "      <th>1</th>\n",
       "      <td>0.367968</td>\n",
       "      <td>0.437405</td>\n",
       "      <td>0.194627</td>\n",
       "    </tr>\n",
       "    <tr>\n",
       "      <th>2</th>\n",
       "      <td>0.325774</td>\n",
       "      <td>0.449115</td>\n",
       "      <td>0.225111</td>\n",
       "    </tr>\n",
       "    <tr>\n",
       "      <th>3</th>\n",
       "      <td>0.359638</td>\n",
       "      <td>0.407503</td>\n",
       "      <td>0.232859</td>\n",
       "    </tr>\n",
       "    <tr>\n",
       "      <th>4</th>\n",
       "      <td>0.353191</td>\n",
       "      <td>0.434043</td>\n",
       "      <td>0.212766</td>\n",
       "    </tr>\n",
       "  </tbody>\n",
       "</table>\n",
       "</div>"
      ],
      "text/plain": [
       "InternetService       DSL  Fiber Optic      None\n",
       "Clusters                                        \n",
       "0                0.332259     0.460795  0.206946\n",
       "1                0.367968     0.437405  0.194627\n",
       "2                0.325774     0.449115  0.225111\n",
       "3                0.359638     0.407503  0.232859\n",
       "4                0.353191     0.434043  0.212766"
      ]
     },
     "execution_count": 149,
     "metadata": {},
     "output_type": "execute_result"
    }
   ],
   "source": [
    "# Internet Service percentage per Clusters\n",
    "pd.crosstab(df_original['Clusters'],df_original['InternetService'],normalize='index')"
   ]
  },
  {
   "cell_type": "code",
   "execution_count": 150,
   "id": "e33c03e1",
   "metadata": {},
   "outputs": [
    {
     "data": {
      "text/html": [
       "<div>\n",
       "<style scoped>\n",
       "    .dataframe tbody tr th:only-of-type {\n",
       "        vertical-align: middle;\n",
       "    }\n",
       "\n",
       "    .dataframe tbody tr th {\n",
       "        vertical-align: top;\n",
       "    }\n",
       "\n",
       "    .dataframe thead th {\n",
       "        text-align: right;\n",
       "    }\n",
       "</style>\n",
       "<table border=\"1\" class=\"dataframe\">\n",
       "  <thead>\n",
       "    <tr style=\"text-align: right;\">\n",
       "      <th>Techie</th>\n",
       "      <th>No</th>\n",
       "      <th>Yes</th>\n",
       "    </tr>\n",
       "    <tr>\n",
       "      <th>Clusters</th>\n",
       "      <th></th>\n",
       "      <th></th>\n",
       "    </tr>\n",
       "  </thead>\n",
       "  <tbody>\n",
       "    <tr>\n",
       "      <th>0</th>\n",
       "      <td>0.821697</td>\n",
       "      <td>0.178303</td>\n",
       "    </tr>\n",
       "    <tr>\n",
       "      <th>1</th>\n",
       "      <td>0.834769</td>\n",
       "      <td>0.165231</td>\n",
       "    </tr>\n",
       "    <tr>\n",
       "      <th>2</th>\n",
       "      <td>0.839602</td>\n",
       "      <td>0.160398</td>\n",
       "    </tr>\n",
       "    <tr>\n",
       "      <th>3</th>\n",
       "      <td>0.833118</td>\n",
       "      <td>0.166882</td>\n",
       "    </tr>\n",
       "    <tr>\n",
       "      <th>4</th>\n",
       "      <td>0.836702</td>\n",
       "      <td>0.163298</td>\n",
       "    </tr>\n",
       "  </tbody>\n",
       "</table>\n",
       "</div>"
      ],
      "text/plain": [
       "Techie          No       Yes\n",
       "Clusters                    \n",
       "0         0.821697  0.178303\n",
       "1         0.834769  0.165231\n",
       "2         0.839602  0.160398\n",
       "3         0.833118  0.166882\n",
       "4         0.836702  0.163298"
      ]
     },
     "execution_count": 150,
     "metadata": {},
     "output_type": "execute_result"
    }
   ],
   "source": [
    "# Techie and Clusters\n",
    "pd.crosstab(df_original['Clusters'],df_original['Techie'],normalize='index')"
   ]
  },
  {
   "cell_type": "code",
   "execution_count": 151,
   "id": "26ab5f54",
   "metadata": {},
   "outputs": [
    {
     "data": {
      "text/html": [
       "<div>\n",
       "<style scoped>\n",
       "    .dataframe tbody tr th:only-of-type {\n",
       "        vertical-align: middle;\n",
       "    }\n",
       "\n",
       "    .dataframe tbody tr th {\n",
       "        vertical-align: top;\n",
       "    }\n",
       "\n",
       "    .dataframe thead th {\n",
       "        text-align: right;\n",
       "    }\n",
       "</style>\n",
       "<table border=\"1\" class=\"dataframe\">\n",
       "  <thead>\n",
       "    <tr style=\"text-align: right;\">\n",
       "      <th>Contract</th>\n",
       "      <th>Month-to-month</th>\n",
       "      <th>One year</th>\n",
       "      <th>Two Year</th>\n",
       "    </tr>\n",
       "    <tr>\n",
       "      <th>Clusters</th>\n",
       "      <th></th>\n",
       "      <th></th>\n",
       "      <th></th>\n",
       "    </tr>\n",
       "  </thead>\n",
       "  <tbody>\n",
       "    <tr>\n",
       "      <th>0</th>\n",
       "      <td>0.546366</td>\n",
       "      <td>0.215539</td>\n",
       "      <td>0.238095</td>\n",
       "    </tr>\n",
       "    <tr>\n",
       "      <th>1</th>\n",
       "      <td>0.538773</td>\n",
       "      <td>0.207805</td>\n",
       "      <td>0.253421</td>\n",
       "    </tr>\n",
       "    <tr>\n",
       "      <th>2</th>\n",
       "      <td>0.551991</td>\n",
       "      <td>0.211283</td>\n",
       "      <td>0.236726</td>\n",
       "    </tr>\n",
       "    <tr>\n",
       "      <th>3</th>\n",
       "      <td>0.558862</td>\n",
       "      <td>0.204398</td>\n",
       "      <td>0.236740</td>\n",
       "    </tr>\n",
       "    <tr>\n",
       "      <th>4</th>\n",
       "      <td>0.534574</td>\n",
       "      <td>0.208511</td>\n",
       "      <td>0.256915</td>\n",
       "    </tr>\n",
       "  </tbody>\n",
       "</table>\n",
       "</div>"
      ],
      "text/plain": [
       "Contract  Month-to-month  One year  Two Year\n",
       "Clusters                                    \n",
       "0               0.546366  0.215539  0.238095\n",
       "1               0.538773  0.207805  0.253421\n",
       "2               0.551991  0.211283  0.236726\n",
       "3               0.558862  0.204398  0.236740\n",
       "4               0.534574  0.208511  0.256915"
      ]
     },
     "execution_count": 151,
     "metadata": {},
     "output_type": "execute_result"
    }
   ],
   "source": [
    "# Percentage of Contract types per Clusters\n",
    "pd.crosstab(df_original['Clusters'],df_original['Contract'],normalize='index')"
   ]
  },
  {
   "cell_type": "code",
   "execution_count": 166,
   "id": "8d3f7f1c",
   "metadata": {},
   "outputs": [
    {
     "data": {
      "image/png": "[encoded data removed]",
      "text/plain": [
       "<Figure size 600x400 with 1 Axes>"
      ]
     },
     "metadata": {},
     "output_type": "display_data"
    }
   ],
   "source": [
    "# Tenure and Cluster\n",
    "sns.boxplot(x='Clusters', y='Age', data=df_original);"
   ]
  },
  {
   "cell_type": "code",
   "execution_count": 167,
   "id": "fabb45b2",
   "metadata": {},
   "outputs": [
    {
     "data": {
      "text/plain": [
       "Clusters\n",
       "0    52.875045\n",
       "1    34.761784\n",
       "2    53.186947\n",
       "3    52.669470\n",
       "4    72.835106\n",
       "Name: Age, dtype: float64"
      ]
     },
     "execution_count": 167,
     "metadata": {},
     "output_type": "execute_result"
    }
   ],
   "source": [
    "# Average age per Cluster\n",
    "df_original.groupby('Clusters')['Age'].mean()"
   ]
  },
  {
   "cell_type": "code",
   "execution_count": 153,
   "id": "f5946992",
   "metadata": {},
   "outputs": [
    {
     "data": {
      "image/png": "[encoded data removed]",
      "text/plain": [
       "<Figure size 600x400 with 1 Axes>"
      ]
     },
     "metadata": {},
     "output_type": "display_data"
    }
   ],
   "source": [
    "# Tenure and Cluster\n",
    "sns.boxplot(x='Clusters', y='Tenure', data=df_original);"
   ]
  },
  {
   "cell_type": "code",
   "execution_count": 154,
   "id": "2bd7a0a3",
   "metadata": {},
   "outputs": [
    {
     "data": {
      "text/plain": [
       "Clusters\n",
       "0     8.832381\n",
       "1    59.908986\n",
       "2    23.716672\n",
       "3    30.030895\n",
       "4    60.151652\n",
       "Name: Tenure, dtype: float64"
      ]
     },
     "execution_count": 154,
     "metadata": {},
     "output_type": "execute_result"
    }
   ],
   "source": [
    "# Average Tenure by Cluster\n",
    "df_original.groupby('Clusters')['Tenure'].mean()"
   ]
  },
  {
   "cell_type": "code",
   "execution_count": 155,
   "id": "b1b17b91",
   "metadata": {},
   "outputs": [
    {
     "data": {
      "text/plain": [
       "Clusters\n",
       "0    172.123448\n",
       "1    173.093938\n",
       "2    171.327025\n",
       "3    171.428492\n",
       "4    175.109213\n",
       "Name: MonthlyCharge, dtype: float64"
      ]
     },
     "execution_count": 155,
     "metadata": {},
     "output_type": "execute_result"
    }
   ],
   "source": [
    "# Average Monthly Charge per Cluster\n",
    "df_original.groupby('Clusters')['MonthlyCharge'].mean()"
   ]
  },
  {
   "cell_type": "code",
   "execution_count": 156,
   "id": "b6c22171",
   "metadata": {},
   "outputs": [
    {
     "data": {
      "image/png": "[encoded data removed]",
      "text/plain": [
       "<Figure size 600x400 with 1 Axes>"
      ]
     },
     "metadata": {},
     "output_type": "display_data"
    }
   ],
   "source": [
    "# Bandwidth usage and Clusters\n",
    "sns.boxplot(x='Clusters',y='Bandwidth_GB_Year', data=df_original);"
   ]
  },
  {
   "cell_type": "code",
   "execution_count": 157,
   "id": "f3a5ff86",
   "metadata": {},
   "outputs": [
    {
     "data": {
      "text/plain": [
       "Clusters\n",
       "0    1255.315812\n",
       "1    5538.788314\n",
       "2    2550.565599\n",
       "3    3024.267527\n",
       "4    5426.781325\n",
       "Name: Bandwidth_GB_Year, dtype: float64"
      ]
     },
     "execution_count": 157,
     "metadata": {},
     "output_type": "execute_result"
    }
   ],
   "source": [
    "# Average Bandwidth usage per Cluster\n",
    "df_original.groupby('Clusters')['Bandwidth_GB_Year'].mean()"
   ]
  },
  {
   "cell_type": "code",
   "execution_count": 158,
   "id": "f6f5efc1",
   "metadata": {},
   "outputs": [
    {
     "data": {
      "image/png": "[encoded data removed]",
      "text/plain": [
       "<Figure size 600x400 with 1 Axes>"
      ]
     },
     "metadata": {},
     "output_type": "display_data"
    }
   ],
   "source": [
    "# Average Income and Clusters\n",
    "sns.boxplot(x='Clusters', y='Income', data=df_original);"
   ]
  },
  {
   "cell_type": "code",
   "execution_count": 159,
   "id": "f5518349",
   "metadata": {},
   "outputs": [
    {
     "data": {
      "text/plain": [
       "Clusters\n",
       "0    31536.429792\n",
       "1    33331.033391\n",
       "2    35684.958728\n",
       "3    73986.058422\n",
       "4    34747.361021\n",
       "Name: Income, dtype: float64"
      ]
     },
     "execution_count": 159,
     "metadata": {},
     "output_type": "execute_result"
    }
   ],
   "source": [
    "df_original.groupby('Clusters')['Income'].mean()"
   ]
  },
  {
   "cell_type": "code",
   "execution_count": 160,
   "id": "d2f43a85",
   "metadata": {},
   "outputs": [
    {
     "data": {
      "text/plain": [
       "Clusters\n",
       "0     9928.309345\n",
       "1    10053.307653\n",
       "2     9284.327987\n",
       "3     9687.798836\n",
       "4     9700.679787\n",
       "Name: Population, dtype: float64"
      ]
     },
     "execution_count": 160,
     "metadata": {},
     "output_type": "execute_result"
    }
   ],
   "source": [
    "df_original.groupby('Clusters')['Population'].mean()"
   ]
  },
  {
   "cell_type": "code",
   "execution_count": 161,
   "id": "9ba8462f",
   "metadata": {},
   "outputs": [
    {
     "data": {
      "text/plain": [
       "Clusters\n",
       "0    1.345149\n",
       "1    1.917385\n",
       "2    3.969027\n",
       "3    1.959897\n",
       "4    1.665426\n",
       "Name: Children, dtype: float64"
      ]
     },
     "execution_count": 161,
     "metadata": {},
     "output_type": "execute_result"
    }
   ],
   "source": [
    "df_original.groupby('Clusters')['Children'].mean()"
   ]
  },
  {
   "cell_type": "code",
   "execution_count": 162,
   "id": "2110f019",
   "metadata": {},
   "outputs": [
    {
     "data": {
      "text/plain": [
       "Clusters\n",
       "0    10.031008\n",
       "1     9.988561\n",
       "2     9.981995\n",
       "3     9.942291\n",
       "4    10.040540\n",
       "Name: Outage_sec_perweek, dtype: float64"
      ]
     },
     "execution_count": 162,
     "metadata": {},
     "output_type": "execute_result"
    }
   ],
   "source": [
    "df_original.groupby('Clusters')['Outage_sec_perweek'].mean()"
   ]
  },
  {
   "cell_type": "code",
   "execution_count": 163,
   "id": "346f885a",
   "metadata": {},
   "outputs": [
    {
     "data": {
      "text/plain": [
       "Clusters\n",
       "0    1.001432\n",
       "1    0.983781\n",
       "2    0.981748\n",
       "3    0.984476\n",
       "4    1.014362\n",
       "Name: Contacts, dtype: float64"
      ]
     },
     "execution_count": 163,
     "metadata": {},
     "output_type": "execute_result"
    }
   ],
   "source": [
    "df_original.groupby('Clusters')['Contacts'].mean()"
   ]
  },
  {
   "cell_type": "code",
   "execution_count": 164,
   "id": "6110374a",
   "metadata": {},
   "outputs": [
    {
     "data": {
      "text/plain": [
       "Clusters\n",
       "0    12.114930\n",
       "1    11.982767\n",
       "2    12.009956\n",
       "3    11.948254\n",
       "4    11.965426\n",
       "Name: Email, dtype: float64"
      ]
     },
     "execution_count": 164,
     "metadata": {},
     "output_type": "execute_result"
    }
   ],
   "source": [
    "df_original.groupby('Clusters')['Email'].mean()"
   ]
  },
  {
   "cell_type": "code",
   "execution_count": 165,
   "id": "ff3fca8d",
   "metadata": {},
   "outputs": [
    {
     "data": {
      "text/plain": [
       "Clusters\n",
       "0    0.393842\n",
       "1    0.389255\n",
       "2    0.408186\n",
       "3    0.407503\n",
       "4    0.395745\n",
       "Name: Yearly_equip_failure, dtype: float64"
      ]
     },
     "execution_count": 165,
     "metadata": {},
     "output_type": "execute_result"
    }
   ],
   "source": [
    "df_original.groupby('Clusters')['Yearly_equip_failure'].mean()"
   ]
  }
 ],
 "metadata": {
  "kernelspec": {
   "display_name": "Python 3 (ipykernel)",
   "language": "python",
   "name": "python3"
  },
  "language_info": {
   "codemirror_mode": {
    "name": "ipython",
    "version": 3
   },
   "file_extension": ".py",
   "mimetype": "text/x-python",
   "name": "python",
   "nbconvert_exporter": "python",
   "pygments_lexer": "ipython3",
   "version": "3.9.13"
  }
 },
 "nbformat": 4,
 "nbformat_minor": 5
}
